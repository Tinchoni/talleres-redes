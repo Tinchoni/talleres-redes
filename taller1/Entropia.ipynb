{
 "cells": [
  {
   "cell_type": "code",
   "execution_count": 1,
   "metadata": {},
   "outputs": [],
   "source": [
    "import pandas as pd\n",
    "import seaborn as sns\n",
    "import matplotlib.pyplot as plt\n",
    "from math import log2"
   ]
  },
  {
   "cell_type": "code",
   "execution_count": 2,
   "metadata": {},
   "outputs": [],
   "source": [
    "red = pd.read_csv(\"tabla_red_fel.csv\",index_col=0)"
   ]
  },
  {
   "cell_type": "code",
   "execution_count": 3,
   "metadata": {},
   "outputs": [
    {
     "data": {
      "text/html": [
       "<div>\n",
       "<style scoped>\n",
       "    .dataframe tbody tr th:only-of-type {\n",
       "        vertical-align: middle;\n",
       "    }\n",
       "\n",
       "    .dataframe tbody tr th {\n",
       "        vertical-align: top;\n",
       "    }\n",
       "\n",
       "    .dataframe thead th {\n",
       "        text-align: right;\n",
       "    }\n",
       "</style>\n",
       "<table border=\"1\" class=\"dataframe\">\n",
       "  <thead>\n",
       "    <tr style=\"text-align: right;\">\n",
       "      <th></th>\n",
       "      <th>Entropia</th>\n",
       "      <th>Uni%</th>\n",
       "      <th>Broad%</th>\n",
       "      <th>Paquetes</th>\n",
       "      <th>2048%</th>\n",
       "      <th>2054%</th>\n",
       "      <th>33024%</th>\n",
       "      <th>34999%</th>\n",
       "      <th>34525%</th>\n",
       "    </tr>\n",
       "  </thead>\n",
       "  <tbody>\n",
       "    <tr>\n",
       "      <th>1</th>\n",
       "      <td>0.702482</td>\n",
       "      <td>0.904251</td>\n",
       "      <td>0.095749</td>\n",
       "      <td>8209</td>\n",
       "      <td>0.881593</td>\n",
       "      <td>0.115483</td>\n",
       "      <td>0</td>\n",
       "      <td>0.002924</td>\n",
       "      <td>0</td>\n",
       "    </tr>\n",
       "    <tr>\n",
       "      <th>2</th>\n",
       "      <td>0.763009</td>\n",
       "      <td>0.896273</td>\n",
       "      <td>0.103727</td>\n",
       "      <td>8156</td>\n",
       "      <td>0.876042</td>\n",
       "      <td>0.123590</td>\n",
       "      <td>0</td>\n",
       "      <td>0.000368</td>\n",
       "      <td>0</td>\n",
       "    </tr>\n",
       "    <tr>\n",
       "      <th>3</th>\n",
       "      <td>0.793508</td>\n",
       "      <td>0.895366</td>\n",
       "      <td>0.104634</td>\n",
       "      <td>8200</td>\n",
       "      <td>0.873537</td>\n",
       "      <td>0.123902</td>\n",
       "      <td>0</td>\n",
       "      <td>0.002561</td>\n",
       "      <td>0</td>\n",
       "    </tr>\n",
       "    <tr>\n",
       "      <th>4</th>\n",
       "      <td>0.771326</td>\n",
       "      <td>0.894240</td>\n",
       "      <td>0.105760</td>\n",
       "      <td>8056</td>\n",
       "      <td>0.875993</td>\n",
       "      <td>0.122890</td>\n",
       "      <td>0</td>\n",
       "      <td>0.001117</td>\n",
       "      <td>0</td>\n",
       "    </tr>\n",
       "    <tr>\n",
       "      <th>5</th>\n",
       "      <td>0.702902</td>\n",
       "      <td>0.893735</td>\n",
       "      <td>0.106265</td>\n",
       "      <td>7933</td>\n",
       "      <td>0.887432</td>\n",
       "      <td>0.112190</td>\n",
       "      <td>0</td>\n",
       "      <td>0.000378</td>\n",
       "      <td>0</td>\n",
       "    </tr>\n",
       "  </tbody>\n",
       "</table>\n",
       "</div>"
      ],
      "text/plain": [
       "   Entropia      Uni%    Broad%  Paquetes     2048%     2054%   33024%  \\\n",
       "1  0.702482  0.904251  0.095749      8209  0.881593  0.115483        0   \n",
       "2  0.763009  0.896273  0.103727      8156  0.876042  0.123590        0   \n",
       "3  0.793508  0.895366  0.104634      8200  0.873537  0.123902        0   \n",
       "4  0.771326  0.894240  0.105760      8056  0.875993  0.122890        0   \n",
       "5  0.702902  0.893735  0.106265      7933  0.887432  0.112190        0   \n",
       "\n",
       "     34999%   34525%  \n",
       "1  0.002924        0  \n",
       "2  0.000368        0  \n",
       "3  0.002561        0  \n",
       "4  0.001117        0  \n",
       "5  0.000378        0  "
      ]
     },
     "execution_count": 3,
     "metadata": {},
     "output_type": "execute_result"
    }
   ],
   "source": [
    "red.head()"
   ]
  },
  {
   "cell_type": "code",
   "execution_count": 4,
   "metadata": {},
   "outputs": [],
   "source": []
  },
  {
   "cell_type": "code",
   "execution_count": 5,
   "metadata": {},
   "outputs": [],
   "source": []
  },
  {
   "cell_type": "code",
   "execution_count": 6,
   "metadata": {},
   "outputs": [
    {
     "name": "stderr",
     "output_type": "stream",
     "text": [
      "/home/luis/.local/lib/python3.8/site-packages/seaborn/_decorators.py:36: FutureWarning: Pass the following variables as keyword args: x, y. From version 0.12, the only valid positional argument will be `data`, and passing other arguments without an explicit keyword will result in an error or misinterpretation.\n",
      "  warnings.warn(\n"
     ]
    },
    {
     "data": {
      "image/png": "[encoded data removed]",
      "text/plain": [
       "<Figure size 432x288 with 1 Axes>"
      ]
     },
     "metadata": {},
     "output_type": "display_data"
    }
   ],
   "source": [
    "sns.set_style(\"darkgrid\")\n",
    "plt.title(\"Entropia por hora\")\n",
    "plt.xticks(rotation=65)\n",
    "sns.lineplot(red.index,red['Entropia'])\n",
    "plt.axhline(y=entropia_maxima, color='r', linestyle='dotted')\n",
    "plt.legend(['Entropia de la red', 'Entropia maxima'])\n",
    "plt.show()"
   ]
  },
  {
   "cell_type": "code",
   "execution_count": null,
   "metadata": {},
   "outputs": [],
   "source": []
  }
 ],
 "metadata": {
  "kernelspec": {
   "display_name": "Python 3",
   "language": "python",
   "name": "python3"
  },
  "language_info": {
   "codemirror_mode": {
    "name": "ipython",
    "version": 3
   },
   "file_extension": ".py",
   "mimetype": "text/x-python",
   "name": "python",
   "nbconvert_exporter": "python",
   "pygments_lexer": "ipython3",
   "version": "3.8.2"
  }
 },
 "nbformat": 4,
 "nbformat_minor": 4
}
