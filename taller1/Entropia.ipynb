{
 "cells": [
  {
   "cell_type": "code",
   "execution_count": 10,
   "metadata": {},
   "outputs": [],
   "source": [
    "import pandas as pd\n",
    "import seaborn as sns\n",
    "import matplotlib.pyplot as plt\n",
    "from math import log2"
   ]
  },
  {
   "cell_type": "code",
   "execution_count": 20,
   "metadata": {},
   "outputs": [],
   "source": [
    "red = pd.read_csv(\"tabla_red_fel.csv\",index_col=0)"
   ]
  },
  {
   "cell_type": "code",
   "execution_count": 21,
   "metadata": {},
   "outputs": [
    {
     "data": {
      "text/html": [
       "<div>\n",
       "<style scoped>\n",
       "    .dataframe tbody tr th:only-of-type {\n",
       "        vertical-align: middle;\n",
       "    }\n",
       "\n",
       "    .dataframe tbody tr th {\n",
       "        vertical-align: top;\n",
       "    }\n",
       "\n",
       "    .dataframe thead th {\n",
       "        text-align: right;\n",
       "    }\n",
       "</style>\n",
       "<table border=\"1\" class=\"dataframe\">\n",
       "  <thead>\n",
       "    <tr style=\"text-align: right;\">\n",
       "      <th></th>\n",
       "      <th>Entropia</th>\n",
       "      <th>Uni%</th>\n",
       "      <th>Broad%</th>\n",
       "      <th>Paquetes</th>\n",
       "      <th>2048%</th>\n",
       "      <th>2054%</th>\n",
       "      <th>33024%</th>\n",
       "      <th>34999%</th>\n",
       "      <th>34525%</th>\n",
       "    </tr>\n",
       "  </thead>\n",
       "  <tbody>\n",
       "    <tr>\n",
       "      <td>00:44</td>\n",
       "      <td>0.702482</td>\n",
       "      <td>0.904251</td>\n",
       "      <td>0.095749</td>\n",
       "      <td>8209.0</td>\n",
       "      <td>0.881593</td>\n",
       "      <td>0.115483</td>\n",
       "      <td>0.0</td>\n",
       "      <td>0.002924</td>\n",
       "      <td>0.0</td>\n",
       "    </tr>\n",
       "    <tr>\n",
       "      <td>01:44</td>\n",
       "      <td>0.763009</td>\n",
       "      <td>0.896273</td>\n",
       "      <td>0.103727</td>\n",
       "      <td>8156.0</td>\n",
       "      <td>0.876042</td>\n",
       "      <td>0.123590</td>\n",
       "      <td>0.0</td>\n",
       "      <td>0.000368</td>\n",
       "      <td>0.0</td>\n",
       "    </tr>\n",
       "    <tr>\n",
       "      <td>02:44</td>\n",
       "      <td>0.793508</td>\n",
       "      <td>0.895366</td>\n",
       "      <td>0.104634</td>\n",
       "      <td>8200.0</td>\n",
       "      <td>0.873537</td>\n",
       "      <td>0.123902</td>\n",
       "      <td>0.0</td>\n",
       "      <td>0.002561</td>\n",
       "      <td>0.0</td>\n",
       "    </tr>\n",
       "    <tr>\n",
       "      <td>03:44</td>\n",
       "      <td>0.771326</td>\n",
       "      <td>0.894240</td>\n",
       "      <td>0.105760</td>\n",
       "      <td>8056.0</td>\n",
       "      <td>0.875993</td>\n",
       "      <td>0.122890</td>\n",
       "      <td>0.0</td>\n",
       "      <td>0.001117</td>\n",
       "      <td>0.0</td>\n",
       "    </tr>\n",
       "    <tr>\n",
       "      <td>04:44</td>\n",
       "      <td>0.702902</td>\n",
       "      <td>0.893735</td>\n",
       "      <td>0.106265</td>\n",
       "      <td>7933.0</td>\n",
       "      <td>0.887432</td>\n",
       "      <td>0.112190</td>\n",
       "      <td>0.0</td>\n",
       "      <td>0.000378</td>\n",
       "      <td>0.0</td>\n",
       "    </tr>\n",
       "  </tbody>\n",
       "</table>\n",
       "</div>"
      ],
      "text/plain": [
       "       Entropia      Uni%    Broad%  Paquetes     2048%     2054%   33024%  \\\n",
       "00:44  0.702482  0.904251  0.095749    8209.0  0.881593  0.115483      0.0   \n",
       "01:44  0.763009  0.896273  0.103727    8156.0  0.876042  0.123590      0.0   \n",
       "02:44  0.793508  0.895366  0.104634    8200.0  0.873537  0.123902      0.0   \n",
       "03:44  0.771326  0.894240  0.105760    8056.0  0.875993  0.122890      0.0   \n",
       "04:44  0.702902  0.893735  0.106265    7933.0  0.887432  0.112190      0.0   \n",
       "\n",
       "         34999%   34525%  \n",
       "00:44  0.002924      0.0  \n",
       "01:44  0.000368      0.0  \n",
       "02:44  0.002561      0.0  \n",
       "03:44  0.001117      0.0  \n",
       "04:44  0.000378      0.0  "
      ]
     },
     "execution_count": 21,
     "metadata": {},
     "output_type": "execute_result"
    }
   ],
   "source": [
    "red.head()"
   ]
  },
  {
   "cell_type": "code",
   "execution_count": 22,
   "metadata": {},
   "outputs": [],
   "source": [
    "CANT_SIMBOLOS = 3"
   ]
  },
  {
   "cell_type": "code",
   "execution_count": 23,
   "metadata": {},
   "outputs": [],
   "source": [
    "entropia_maxima = log2(CANT_SIMBOLOS)"
   ]
  },
  {
   "cell_type": "code",
   "execution_count": 24,
   "metadata": {},
   "outputs": [
    {
     "data": {
      "image/png": "[encoded data removed]",
      "text/plain": [
       "<Figure size 432x288 with 1 Axes>"
      ]
     },
     "metadata": {},
     "output_type": "display_data"
    }
   ],
   "source": [
    "sns.set_style(\"darkgrid\")\n",
    "plt.title(\"Entropia por hora\")\n",
    "plt.xticks(rotation=65)\n",
    "sns.lineplot(red.index,red['Entropia'])\n",
    "plt.axhline(y=entropia_maxima, color='r', linestyle='dotted')\n",
    "plt.legend(['Entropia de la red', 'Entropia maxima'])\n",
    "plt.show()"
   ]
  }
 ],
 "metadata": {
  "kernelspec": {
   "display_name": "Python 3",
   "language": "python",
   "name": "python3"
  },
  "language_info": {
   "codemirror_mode": {
    "name": "ipython",
    "version": 3
   },
   "file_extension": ".py",
   "mimetype": "text/x-python",
   "name": "python",
   "nbconvert_exporter": "python",
   "pygments_lexer": "ipython3",
   "version": "3.7.4"
  }
 },
 "nbformat": 4,
 "nbformat_minor": 2
}
